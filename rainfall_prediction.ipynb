{
 "cells": [
  {
   "cell_type": "code",
   "execution_count": 1,
   "id": "e965acf0-88b4-4d49-ac55-73ab386dea04",
   "metadata": {},
   "outputs": [],
   "source": [
    "dataset_weather = \"usa_rain_prediction_dataset_2024_2025.csv\""
   ]
  },
  {
   "cell_type": "code",
   "execution_count": 3,
   "id": "fcad5ac4-122b-46be-be4f-b82a87aaa9e8",
   "metadata": {},
   "outputs": [
    {
     "name": "stdout",
     "output_type": "stream",
     "text": [
      "Training Accuracy: 0.9045729919874926\n",
      "Validation Accuracy: 0.9051527587779298\n",
      "Testing Accuracy: 0.9052439580483356\n"
     ]
    },
    {
     "data": {
      "image/png": "[encoded data removed]",
      "text/plain": [
       "<Figure size 640x480 with 1 Axes>"
      ]
     },
     "metadata": {},
     "output_type": "display_data"
    }
   ],
   "source": [
    "import pandas as pd\n",
    "from sklearn.model_selection import train_test_split\n",
    "from sklearn.svm import SVC\n",
    "from sklearn.metrics import accuracy_score\n",
    "from sklearn.preprocessing import LabelEncoder\n",
    "import matplotlib.pyplot as plt\n",
    "\n",
    "dataset_weather = \"usa_rain_prediction_dataset_2024_2025.csv\"\n",
    "\n",
    "# Load the dataset\n",
    "df = pd.read_csv(dataset_weather)\n",
    "\n",
    "# Assuming 'Rainfall' is the target variable\n",
    "# and other columns are features\n",
    "X = df.drop(['Rain Tomorrow'], axis=1)  # Features\n",
    "y = df['Rain Tomorrow']  # Target\n",
    "\n",
    "# Convert 'Date' and 'Location' to numerical representations using Label Encoding\n",
    "for column in ['Date', 'Location']:\n",
    "    le = LabelEncoder()\n",
    "    X[column] = le.fit_transform(X[column])\n",
    "\n",
    "# Split data into training, validation, and testing sets\n",
    "X_train, X_temp, y_train, y_temp = train_test_split(X, y, test_size=0.3, random_state=42)\n",
    "X_val, X_test, y_val, y_test = train_test_split(X_temp, y_temp, test_size=0.5, random_state=42)\n",
    "\n",
    "# Create an SVM classifier\n",
    "svm_classifier = SVC(kernel='linear', random_state=42)  # You can experiment with different kernels (linear, rbf, poly)\n",
    "\n",
    "# Train the classifier\n",
    "svm_classifier.fit(X_train, y_train)\n",
    "\n",
    "# Make predictions on the training set\n",
    "y_train_pred = svm_classifier.predict(X_train)\n",
    "train_accuracy = accuracy_score(y_train, y_train_pred)\n",
    "\n",
    "# Make predictions on the validation set\n",
    "y_val_pred = svm_classifier.predict(X_val)\n",
    "val_accuracy = accuracy_score(y_val, y_val_pred)\n",
    "\n",
    "# Make predictions on the test set\n",
    "y_test_pred = svm_classifier.predict(X_test)\n",
    "test_accuracy = accuracy_score(y_test, y_test_pred)\n",
    "\n",
    "print(\"Training Accuracy:\", train_accuracy)\n",
    "print(\"Validation Accuracy:\", val_accuracy)\n",
    "print(\"Testing Accuracy:\", test_accuracy)\n",
    "\n",
    "# Create a list of accuracies for plotting\n",
    "accuracies = [train_accuracy, val_accuracy, test_accuracy]\n",
    "labels = ['Training', 'Validation', 'Testing']\n",
    "\n",
    "# Plot the accuracies\n",
    "plt.bar(labels, accuracies)\n",
    "plt.xlabel(\"Dataset\")\n",
    "plt.ylabel(\"Accuracy\")\n",
    "plt.title(\"SVM Classifier Accuracies\")\n",
    "plt.show()"
   ]
  },
  {
   "cell_type": "code",
   "execution_count": 5,
   "id": "00fd51d6-623a-4d39-88ee-5d0e807d7852",
   "metadata": {},
   "outputs": [
    {
     "name": "stdout",
     "output_type": "stream",
     "text": [
      "Accuracy: 0.9052439580483356\n",
      "Precision: 0.9025019333774965\n",
      "Recall: 0.9052439580483356\n",
      "F1-score: 0.9018090856938836\n"
     ]
    }
   ],
   "source": [
    "from sklearn.metrics import accuracy_score, precision_score, recall_score, f1_score\n",
    "\n",
    "# Evaluate the model\n",
    "accuracy = accuracy_score(y_test, y_test_pred)\n",
    "precision = precision_score(y_test, y_test_pred, average='weighted')\n",
    "recall = recall_score(y_test, y_test_pred, average='weighted')\n",
    "f1 = f1_score(y_test, y_test_pred, average='weighted')\n",
    "\n",
    "print(\"Accuracy:\", accuracy)\n",
    "print(\"Precision:\", precision)\n",
    "print(\"Recall:\", recall)\n",
    "print(\"F1-score:\", f1)"
   ]
  },
  {
   "cell_type": "code",
   "execution_count": 6,
   "id": "ae105bd9-2ee5-4fc9-9ab1-19f0dad65e9c",
   "metadata": {},
   "outputs": [
    {
     "name": "stdin",
     "output_type": "stream",
     "text": [
      "Enter the Date (numeric):  12/5/2025\n",
      "Enter the Location (numeric):  New York\n",
      "Enter the Temperature:  234\n",
      "Enter the Humidity:  654\n",
      "Enter the Wind Speed:  21\n",
      "Enter the Precipitation:  67\n",
      "Enter the Cloud Cover:  234\n",
      "Enter the Pressure:  12\n"
     ]
    },
    {
     "name": "stdout",
     "output_type": "stream",
     "text": [
      "It will not rain tomorrow.\n"
     ]
    }
   ],
   "source": [
    "user_input = {}\n",
    "for column in X.columns:\n",
    "  if column != 'Rain Tomorrow':  # Assuming 'Rain Tomorrow' is your target variable\n",
    "    if column == 'Date' or column == 'Location' :\n",
    "      user_input[column] = input(f\"Enter the {column} (numeric): \")\n",
    "\n",
    "    else:\n",
    "      user_input[column] = input(f\"Enter the {column}: \")\n",
    "\n",
    "# Convert user input to a DataFrame\n",
    "user_df = pd.DataFrame([user_input])\n",
    "\n",
    "# Convert 'Date' and 'Location' to numerical representations using Label Encoding\n",
    "for column in ['Date', 'Location']:\n",
    "  le = LabelEncoder()\n",
    "  user_df[column] = le.fit_transform(user_df[column])\n",
    "\n",
    "# Make a prediction using the trained SVM model\n",
    "prediction = svm_classifier.predict(user_df)\n",
    "\n",
    "# Print the prediction\n",
    "if prediction[0] == 'Yes':\n",
    "  print(\"It will rain tomorrow.\")\n",
    "else:\n",
    "  print(\"It will not rain tomorrow.\")"
   ]
  }
 ],
 "metadata": {
  "kernelspec": {
   "display_name": "Python [conda env:base] *",
   "language": "python",
   "name": "conda-base-py"
  },
  "language_info": {
   "codemirror_mode": {
    "name": "ipython",
    "version": 3
   },
   "file_extension": ".py",
   "mimetype": "text/x-python",
   "name": "python",
   "nbconvert_exporter": "python",
   "pygments_lexer": "ipython3",
   "version": "3.11.7"
  }
 },
 "nbformat": 4,
 "nbformat_minor": 5
}
